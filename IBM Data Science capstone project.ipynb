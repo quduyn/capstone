{
  "nbformat": 4,
  "nbformat_minor": 0,
  "metadata": {
    "colab": {
      "name": "Untitled1.ipynb",
      "provenance": [],
      "collapsed_sections": [],
      "authorship_tag": "ABX9TyNhUR8PV2KxOtGyb1wHQNUo"
    },
    "kernelspec": {
      "name": "python3",
      "display_name": "Python 3"
    }
  },
  "cells": [
    {
      "cell_type": "markdown",
      "metadata": {
        "id": "xDKJ5JKaxkUy",
        "colab_type": "text"
      },
      "source": [
        "This notebook will be mainly used for IBM Data Science Capstone project"
      ]
    },
    {
      "cell_type": "code",
      "metadata": {
        "id": "fnObuYMVxhNf",
        "colab_type": "code",
        "colab": {
          "base_uri": "https://localhost:8080/",
          "height": 35
        },
        "outputId": "facd1931-d99e-45d5-f8f3-3abb298c6872"
      },
      "source": [
        "import pandas as pd\n",
        "import numpy as np\n",
        "\n",
        "print(\"Hello Capstone Project Course!\")"
      ],
      "execution_count": 1,
      "outputs": [
        {
          "output_type": "stream",
          "text": [
            "Hello Capstone Project Course!\n"
          ],
          "name": "stdout"
        }
      ]
    }
  ]
}