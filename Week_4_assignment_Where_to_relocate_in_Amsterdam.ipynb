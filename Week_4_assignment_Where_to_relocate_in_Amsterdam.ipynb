{
  "nbformat": 4,
  "nbformat_minor": 0,
  "metadata": {
    "colab": {
      "name": "Week 4 assignment: Where to relocate in Amsterdam.ipynb",
      "provenance": [],
      "authorship_tag": "ABX9TyN4mO8nU7GiW9Y+udb3gt88",
      "include_colab_link": true
    },
    "kernelspec": {
      "name": "python3",
      "display_name": "Python 3"
    }
  },
  "cells": [
    {
      "cell_type": "markdown",
      "metadata": {
        "id": "view-in-github",
        "colab_type": "text"
      },
      "source": [
        "<a href=\"https://colab.research.google.com/github/quduyn/capstone/blob/master/Week_4_assignment_Where_to_relocate_in_Amsterdam.ipynb\" target=\"_parent\"><img src=\"https://colab.research.google.com/assets/colab-badge.svg\" alt=\"Open In Colab\"/></a>"
      ]
    },
    {
      "cell_type": "markdown",
      "metadata": {
        "id": "sLLwL4Wk1g7c",
        "colab_type": "text"
      },
      "source": [
        "# **You are promoted - Oops! Relocation to Amsterdam.**"
      ]
    },
    {
      "cell_type": "markdown",
      "metadata": {
        "id": "EhFlu9z91yPG",
        "colab_type": "text"
      },
      "source": [
        "In this assignment, we will journey together through the steps to solve the following puzzling problem for global citizen employees: Relocation."
      ]
    },
    {
      "cell_type": "markdown",
      "metadata": {
        "id": "L9QMLGxQ2H2q",
        "colab_type": "text"
      },
      "source": [
        "#### **Problem description:**\n",
        "\n",
        "One day you wake up and all your good effort is paid-off. You received a phone call and were informed that you are promoted. After all the congratulations from your boss, here is his wrapped-up request:\n",
        "\n",
        "\"You know what, we do offer relocation package. You only have to choose a neighbourhood you like in Amsterdam. We will then take care of the rest\" \n",
        "\n",
        "**\"How can I choose a neighborhood in a city I have never been to?\"**\n",
        "\n",
        "There are many ways to help you choose a suitable place. One of which is to research what venues are around each neighborhood. \n",
        "\n",
        "\"But there are plenty of them and I do not even live in Europe.\" you said.\n",
        "\n",
        "No worries, we will help you out using the product of this assignment, the clustering output of Amsterdam Neighborhoods. After that, you choose; and you move. As simple as that."
      ]
    },
    {
      "cell_type": "markdown",
      "metadata": {
        "id": "8BJWRvjL33qi",
        "colab_type": "text"
      },
      "source": [
        "#### **The dataset**\n",
        "The dataset we will use is publicly available on City of Amsterdam data portal website\n",
        "https://maps.amsterdam.nl/open_geodata/?LANG=en\n",
        "\n",
        "The dataset itself (csv file) can be retrieved via this link:\n",
        "https://maps.amsterdam.nl/open_geodata/excel.php?KAARTLAAG=GEBIEDEN22&THEMA=gebiedsindeling\n",
        "\n",
        "In the dataset, we already have these attributes (we will not use the shape coordinates but only the Area central coordinates):\n",
        "1. Object number\n",
        "2. Area Code\n",
        "3. City District Code\n",
        "4. Total Area\n",
        "5. Mapping Shape Longitudes (**not used** - for border shaping purpose)\n",
        "6. Mappig Shape Latitudes (**not used** - for border shaping purpose)\n",
        "7. Area Longitude\n",
        "8. Area Latitude\n",
        "\n",
        "After retrieveing this set of location data of Amsterdam neighborhoods, we will use **Foursquare** location dat services to extract the venues needed for your decision."
      ]
    },
    {
      "cell_type": "code",
      "metadata": {
        "id": "VAWerlgY1a4_",
        "colab_type": "code",
        "colab": {}
      },
      "source": [
        ""
      ],
      "execution_count": 0,
      "outputs": []
    }
  ]
}